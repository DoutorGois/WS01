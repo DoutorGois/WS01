{
 "cells": [
  {
   "cell_type": "markdown",
   "metadata": {},
   "source": [
    "# Configure notebook"
   ]
  },
  {
   "cell_type": "code",
   "execution_count": 3,
   "metadata": {},
   "outputs": [
    {
     "name": "stdout",
     "output_type": "stream",
     "text": [
      "Requirement already up-to-date: pip in /opt/conda/lib/python3.6/site-packages\r\n"
     ]
    }
   ],
   "source": [
    "!pip install --upgrade pip"
   ]
  },
  {
   "cell_type": "code",
   "execution_count": 5,
   "metadata": {
    "scrolled": true
   },
   "outputs": [
    {
     "name": "stdout",
     "output_type": "stream",
     "text": [
      "usage: conda [-h] [-V] command ...\r\n",
      "\r\n",
      "conda is a tool for managing and deploying applications, environments and packages.\r\n",
      "\r\n",
      "Options:\r\n",
      "\r\n",
      "positional arguments:\r\n",
      "  command\r\n",
      "    info         Display information about current conda install.\r\n",
      "    help         Displays a list of available conda commands and their help\r\n",
      "                 strings.\r\n",
      "    list         List linked packages in a conda environment.\r\n",
      "    search       Search for packages and display their information. The input\r\n",
      "                 is a Python regular expression. To perform a search with a\r\n",
      "                 search string that starts with a -, separate the search from\r\n",
      "                 the options with --, like 'conda search -- -h'. A * in the\r\n",
      "                 results means that package is installed in the current\r\n",
      "                 environment. A . means that package is not installed but is\r\n",
      "                 cached in the pkgs directory.\r\n",
      "    create       Create a new conda environment from a list of specified\r\n",
      "                 packages.\r\n",
      "    install      Installs a list of packages into a specified conda\r\n",
      "                 environment.\r\n",
      "    update       Updates conda packages to the latest compatible version. This\r\n",
      "                 command accepts a list of package names and updates them to\r\n",
      "                 the latest versions that are compatible with all other\r\n",
      "                 packages in the environment. Conda attempts to install the\r\n",
      "                 newest versions of the requested packages. To accomplish\r\n",
      "                 this, it may update some packages that are already installed,\r\n",
      "                 or install additional packages. To prevent existing packages\r\n",
      "                 from updating, use the --no-update-deps option. This may\r\n",
      "                 force conda to install older versions of the requested\r\n",
      "                 packages, and it does not prevent additional dependency\r\n",
      "                 packages from being installed. If you wish to skip dependency\r\n",
      "                 checking altogether, use the '--force' option. This may\r\n",
      "                 result in an environment with incompatible packages, so this\r\n",
      "                 option must be used with great caution.\r\n",
      "    upgrade      Alias for conda update. See conda update --help.\r\n",
      "    remove       Remove a list of packages from a specified conda environment.\r\n",
      "    uninstall    Alias for conda remove. See conda remove --help.\r\n",
      "    config       Modify configuration values in .condarc. This is modeled\r\n",
      "                 after the git config command. Writes to the user .condarc\r\n",
      "                 file (/home/jovyan/.condarc) by default.\r\n",
      "    clean        Remove unused packages and caches.\r\n",
      "    package      Low-level conda package utility. (EXPERIMENTAL)\r\n",
      "\r\n",
      "optional arguments:\r\n",
      "  -h, --help     Show this help message and exit.\r\n",
      "  -V, --version  Show the conda version number and exit.\r\n",
      "\r\n",
      "other commands, such as \"conda build\", are available when additional conda\r\n",
      "packages (e.g. conda-build) are installed\r\n",
      "\r\n"
     ]
    }
   ],
   "source": [
    "!conda"
   ]
  },
  {
   "cell_type": "code",
   "execution_count": null,
   "metadata": {},
   "outputs": [],
   "source": [
    "!conda install -c conda-forge jupyter_nbextensions_configurator -y"
   ]
  },
  {
   "cell_type": "code",
   "execution_count": null,
   "metadata": {},
   "outputs": [],
   "source": []
  }
 ],
 "metadata": {
  "kernelspec": {
   "display_name": "Python 3",
   "language": "python",
   "name": "python3"
  },
  "language_info": {
   "codemirror_mode": {
    "name": "ipython",
    "version": 3
   },
   "file_extension": ".py",
   "mimetype": "text/x-python",
   "name": "python",
   "nbconvert_exporter": "python",
   "pygments_lexer": "ipython3",
   "version": "3.6.3"
  }
 },
 "nbformat": 4,
 "nbformat_minor": 2
}
