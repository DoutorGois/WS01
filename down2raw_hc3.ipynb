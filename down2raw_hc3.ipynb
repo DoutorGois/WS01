{
 "cells": [
  {
   "cell_type": "code",
   "execution_count": 1,
   "metadata": {
    "ExecuteTime": {
     "end_time": "2017-12-11T19:33:31.837075Z",
     "start_time": "2017-12-11T19:33:31.811907Z"
    },
    "collapsed": true
   },
   "outputs": [],
   "source": [
    "# Defining basic folder\n",
    "import os\n",
    "from sys import exit\n",
    "\n",
    "data_folder          = \"/mnt/nfs/dados_nas\"\n",
    "\n",
    "database_raw_folder  = os.path.join(data_folder,\"raw\")\n",
    "database_raw_doc     = os.path.join(database_raw_folder,'hc-3/docs')\n",
    "database_raw_data    = os.path.join(database_raw_folder,'hc-3/data')\n",
    "\n",
    "database_proc_folder = os.path.join(data_folder,\"proc/hc-3\")\n",
    "database_proc_data   = os.path.join(database_proc_folder,\"data\")\n"
   ]
  },
  {
   "cell_type": "code",
   "execution_count": null,
   "metadata": {
    "collapsed": true
   },
   "outputs": [],
   "source": []
  },
  {
   "cell_type": "code",
   "execution_count": 17,
   "metadata": {
    "ExecuteTime": {
     "end_time": "2017-12-11T19:39:16.440493Z",
     "start_time": "2017-12-11T19:39:16.199374Z"
    },
    "collapsed": true
   },
   "outputs": [],
   "source": [
    "import tarfile\n",
    "from subprocess import call\n",
    "download_path  = os.path.join(data_folder,'data_tool','hc-3')\n",
    "download_files = os.listdir(download_path)\n",
    "download_path  = [os.path.join(download_path,file) for file in download_files if os.path.isdir(os.path.join(download_path,file))]\n",
    "\n",
    "for p,path in enumerate(download_path):\n",
    "    \n",
    "    if p > 0:\n",
    "        \n",
    "        file_list = os.listdir(path)\n",
    "        \n",
    "        for file in file_list:\n",
    "            \n",
    "            file_path = os.path.join(path,file)\n",
    "            filename  = file.split('.')\n",
    "            \n",
    "            if (\"mpg\"==filename[-3]):\n",
    "                filename  = '.'.join(filename[0:-3])\n",
    "            else:\n",
    "                filename  = '.'.join(filename[0:-2])\n",
    "                \n",
    "            extract_path = os.path.join(database_raw_data,filename)\n",
    "            \n",
    "            file_source  = file_path\n",
    "            #file_destiny = os.path.join(extract_path,file)\n",
    "            file_destiny = os.path.join(database_raw_data,file)\n",
    "            \n",
    "            if not(os.path.isdir(extract_path)):\n",
    "                mkdir_cmd = 'mkdir '+ extract_path\n",
    "                print(mkdir_cmd)\n",
    "                call(['mkdir',extract_path])\n",
    "\n",
    "            call(['mv',file_source,file_destiny])\n"
   ]
  },
  {
   "cell_type": "code",
   "execution_count": null,
   "metadata": {
    "collapsed": true
   },
   "outputs": [],
   "source": [
    "#Faz a cagada\n",
    "import tarfile\n",
    "from subprocess import call\n",
    "raw_files = os.listdir(database_raw_data)\n",
    "raw_path  = [os.path.join(database_raw_data,file) for file in raw_files if os.path.isdir(os.path.join(database_raw_data,file))]\n",
    "\n",
    "untar_list = list()\n",
    "ul         = 0;\n",
    "for p,path in enumerate(raw_path):\n",
    "    print(p,path)\n",
    "    files = os.listdir(path)\n",
    "    for f,file in enumerate(files):\n",
    "        print('\\t',f,file)\n",
    "        print('\\t',f,os.path.join(database_raw_data,file))\n",
    "        print('\\t',f,os.path.join(path,file))\n",
    "        file_source  = os.path.join(path,file)\n",
    "        file_destiny = os.path.join(database_raw_data,file)\n",
    "        #call(['mv',file_source,file_destiny])\n",
    "        print(['mv',file_source,file_destiny])\n"
   ]
  },
  {
   "cell_type": "code",
   "execution_count": 16,
   "metadata": {
    "ExecuteTime": {
     "end_time": "2017-12-11T19:38:49.266368Z",
     "start_time": "2017-12-11T19:38:27.928350Z"
    },
    "collapsed": true
   },
   "outputs": [],
   "source": [
    "#desfaz a cagada\n",
    "raw_files = os.listdir(database_raw_data)\n",
    "raw_files = [os.path.join(database_raw_data,filename) for filename in raw_files]\n",
    "raw_files = [filename for filename in raw_files if not(os.path.isdir(filename))]\n",
    "raw_files = [filename for filename in raw_files if not((filename.split('.'))[-1]=='gz')]\n",
    "\n",
    "\n",
    "for file in raw_files:\n",
    "    file_split = os.path.basename(file).split('.')\n",
    "    \n",
    "    cont = 1\n",
    "    while not(os.path.isdir(os.path.join(database_raw_data,'.'.join(file_split[:cont])))):\n",
    "        cont = cont + 1\n",
    "    \n",
    "    path_destiny = os.path.join(database_raw_data,'.'.join(file_split[:cont]))\n",
    "    \n",
    "    \n",
    "    \n",
    "    #os.path.basename(file)\n",
    "    \n",
    "    file_source  = os.path.join(database_raw_data,file)\n",
    "    file_destiny = os.path.join(path_destiny,os.path.basename(file))\n",
    "    \n",
    "    call(['mv',file_source,file_destiny])\n",
    "    \n"
   ]
  },
  {
   "cell_type": "code",
   "execution_count": 11,
   "metadata": {
    "ExecuteTime": {
     "end_time": "2017-12-11T19:35:52.857795Z",
     "start_time": "2017-12-11T19:35:52.840459Z"
    }
   },
   "outputs": [
    {
     "data": {
      "text/plain": [
       "['/mnt/nfs/dados_nas/raw/hc-3/data/ec014.468.tar.gz',\n",
       " '/mnt/nfs/dados_nas/raw/hc-3/data/ec014.639.tar.gz',\n",
       " '/mnt/nfs/dados_nas/raw/hc-3/data/ec014.800.tar.gz',\n",
       " '/mnt/nfs/dados_nas/raw/hc-3/data/2007-3-29_15-01-15.tar.gz',\n",
       " '/mnt/nfs/dados_nas/raw/hc-3/data/2007-3-29_16-06-46.tar.gz',\n",
       " '/mnt/nfs/dados_nas/raw/hc-3/data/2007-3-29_17-42-25.tar.gz',\n",
       " '/mnt/nfs/dados_nas/raw/hc-3/data/2007-3-29_20-14-02.tar.gz',\n",
       " '/mnt/nfs/dados_nas/raw/hc-3/data/ec015.041.tar.gz',\n",
       " '/mnt/nfs/dados_nas/raw/hc-3/data/ec015.043.tar.gz',\n",
       " '/mnt/nfs/dados_nas/raw/hc-3/data/ec015.045.tar.gz',\n",
       " '/mnt/nfs/dados_nas/raw/hc-3/data/ec015.047.tar.gz',\n",
       " '/mnt/nfs/dados_nas/raw/hc-3/data/ec016.233.tar.gz',\n",
       " '/mnt/nfs/dados_nas/raw/hc-3/data/ec016.269.tar.gz',\n",
       " '/mnt/nfs/dados_nas/raw/hc-3/data/ec016.270.tar.gz',\n",
       " '/mnt/nfs/dados_nas/raw/hc-3/data/ec016.272.tar.gz',\n",
       " '/mnt/nfs/dados_nas/raw/hc-3/data/ec016.397.tar.gz',\n",
       " '/mnt/nfs/dados_nas/raw/hc-3/data/ec016.405.tar.gz',\n",
       " '/mnt/nfs/dados_nas/raw/hc-3/data/ec016.430.tar.gz',\n",
       " '/mnt/nfs/dados_nas/raw/hc-3/data/ec016.437.tar.gz',\n",
       " '/mnt/nfs/dados_nas/raw/hc-3/data/ec016.448.tar.gz',\n",
       " '/mnt/nfs/dados_nas/raw/hc-3/data/ec016.457.tar.gz',\n",
       " '/mnt/nfs/dados_nas/raw/hc-3/data/ec016.459.tar.gz',\n",
       " '/mnt/nfs/dados_nas/raw/hc-3/data/ec016.483.mpg.tar.gz',\n",
       " '/mnt/nfs/dados_nas/raw/hc-3/data/ec016.483.tar.gz',\n",
       " '/mnt/nfs/dados_nas/raw/hc-3/data/ec016.499.tar.gz',\n",
       " '/mnt/nfs/dados_nas/raw/hc-3/data/ec016.537.mpg.tar.gz',\n",
       " '/mnt/nfs/dados_nas/raw/hc-3/data/ec016.537.tar.gz',\n",
       " '/mnt/nfs/dados_nas/raw/hc-3/data/ec016.582.tar.gz',\n",
       " '/mnt/nfs/dados_nas/raw/hc-3/data/ec016.665.tar.gz',\n",
       " '/mnt/nfs/dados_nas/raw/hc-3/data/ec016.674.tar.gz',\n",
       " '/mnt/nfs/dados_nas/raw/hc-3/data/ec016.682.tar.gz',\n",
       " '/mnt/nfs/dados_nas/raw/hc-3/data/ec016.698.tar.gz',\n",
       " '/mnt/nfs/dados_nas/raw/hc-3/data/ec016.722.tar.gz',\n",
       " '/mnt/nfs/dados_nas/raw/hc-3/data/ec016.734.mpg.tar.gz',\n",
       " '/mnt/nfs/dados_nas/raw/hc-3/data/ec016.734.tar.gz',\n",
       " '/mnt/nfs/dados_nas/raw/hc-3/data/ec016.749.tar.gz',\n",
       " '/mnt/nfs/dados_nas/raw/hc-3/data/ec016.750.tar.gz',\n",
       " '/mnt/nfs/dados_nas/raw/hc-3/data/ec016.775.mpg.tar.gz',\n",
       " '/mnt/nfs/dados_nas/raw/hc-3/data/ec016.775.tar.gz',\n",
       " '/mnt/nfs/dados_nas/raw/hc-3/data/ec016.799.mpg.tar.gz',\n",
       " '/mnt/nfs/dados_nas/raw/hc-3/data/ec016.799.tar.gz',\n",
       " '/mnt/nfs/dados_nas/raw/hc-3/data/ec016.819.mpg.tar.gz',\n",
       " '/mnt/nfs/dados_nas/raw/hc-3/data/ec016.819.tar.gz',\n",
       " '/mnt/nfs/dados_nas/raw/hc-3/data/ec016.843.mpg.tar.gz',\n",
       " '/mnt/nfs/dados_nas/raw/hc-3/data/ec016.843.tar.gz',\n",
       " '/mnt/nfs/dados_nas/raw/hc-3/data/ec016.850.tar.gz',\n",
       " '/mnt/nfs/dados_nas/raw/hc-3/data/ec016.860.tar.gz',\n",
       " '/mnt/nfs/dados_nas/raw/hc-3/data/ec016.880.tar.gz',\n",
       " '/mnt/nfs/dados_nas/raw/hc-3/data/ec016.896.tar.gz',\n",
       " '/mnt/nfs/dados_nas/raw/hc-3/data/ec016.897.mpg.tar.gz',\n",
       " '/mnt/nfs/dados_nas/raw/hc-3/data/ec016.897.tar.gz',\n",
       " '/mnt/nfs/dados_nas/raw/hc-3/data/ec016.898.mpg.tar.gz',\n",
       " '/mnt/nfs/dados_nas/raw/hc-3/data/ec016.898.tar.gz',\n",
       " '/mnt/nfs/dados_nas/raw/hc-3/data/ec016.899.tar.gz',\n",
       " '/mnt/nfs/dados_nas/raw/hc-3/data/ec016.923.tar.gz',\n",
       " '/mnt/nfs/dados_nas/raw/hc-3/data/ec016.932.mpg.tar.gz',\n",
       " '/mnt/nfs/dados_nas/raw/hc-3/data/ec016.932.tar.gz',\n",
       " '/mnt/nfs/dados_nas/raw/hc-3/data/ec016.939.tar.gz',\n",
       " '/mnt/nfs/dados_nas/raw/hc-3/data/ec016.946.tar.gz',\n",
       " '/mnt/nfs/dados_nas/raw/hc-3/data/ec016.957.mpg.tar.gz',\n",
       " '/mnt/nfs/dados_nas/raw/hc-3/data/ec016.957.tar.gz',\n",
       " '/mnt/nfs/dados_nas/raw/hc-3/data/ec016.963.mpg.tar.gz',\n",
       " '/mnt/nfs/dados_nas/raw/hc-3/data/ec016.963.tar.gz',\n",
       " '/mnt/nfs/dados_nas/raw/hc-3/data/ec016.964.mpg.tar.gz',\n",
       " '/mnt/nfs/dados_nas/raw/hc-3/data/ec016.964.tar.gz',\n",
       " '/mnt/nfs/dados_nas/raw/hc-3/data/ec016.965.mpg.tar.gz',\n",
       " '/mnt/nfs/dados_nas/raw/hc-3/data/ec016.965.tar.gz',\n",
       " '/mnt/nfs/dados_nas/raw/hc-3/data/ec016.977.mpg.tar.gz',\n",
       " '/mnt/nfs/dados_nas/raw/hc-3/data/ec016.977.tar.gz',\n",
       " '/mnt/nfs/dados_nas/raw/hc-3/data/ec016.985.mpg.tar.gz',\n",
       " '/mnt/nfs/dados_nas/raw/hc-3/data/ec016.985.tar.gz',\n",
       " '/mnt/nfs/dados_nas/raw/hc-3/data/ec016.986.mpg.tar.gz',\n",
       " '/mnt/nfs/dados_nas/raw/hc-3/data/ec016.986.tar.gz',\n",
       " '/mnt/nfs/dados_nas/raw/hc-3/data/ec016.1015.mpg.tar.gz',\n",
       " '/mnt/nfs/dados_nas/raw/hc-3/data/ec016.1015.tar.gz',\n",
       " '/mnt/nfs/dados_nas/raw/hc-3/data/ec016.1016.mpg.tar.gz',\n",
       " '/mnt/nfs/dados_nas/raw/hc-3/data/ec016.1016.tar.gz',\n",
       " '/mnt/nfs/dados_nas/raw/hc-3/data/ec016.1035.mpg.tar.gz',\n",
       " '/mnt/nfs/dados_nas/raw/hc-3/data/ec016.1035.tar.gz',\n",
       " '/mnt/nfs/dados_nas/raw/hc-3/data/ec016.1047.tar.gz',\n",
       " '/mnt/nfs/dados_nas/raw/hc-3/data/ec016.1048.tar.gz',\n",
       " '/mnt/nfs/dados_nas/raw/hc-3/data/f01_maze08_MS.002.tar.gz',\n",
       " '/mnt/nfs/dados_nas/raw/hc-3/data/f01_maze09_MS.002.tar.gz',\n",
       " '/mnt/nfs/dados_nas/raw/hc-3/data/f01_maze11_MS.002.tar.gz',\n",
       " '/mnt/nfs/dados_nas/raw/hc-3/data/f01_maze11_MS.004.tar.gz',\n",
       " '/mnt/nfs/dados_nas/raw/hc-3/data/f01_maze12_MS.002.tar.gz',\n",
       " '/mnt/nfs/dados_nas/raw/hc-3/data/f01_maze12_MS.003.tar.gz',\n",
       " '/mnt/nfs/dados_nas/raw/hc-3/data/f01_maze12_MS.005.tar.gz',\n",
       " '/mnt/nfs/dados_nas/raw/hc-3/data/f01_maze12_MS.007.tar.gz',\n",
       " '/mnt/nfs/dados_nas/raw/hc-3/data/g01_maze04_MS.002.tar.gz',\n",
       " '/mnt/nfs/dados_nas/raw/hc-3/data/g01_maze04_MS.004.tar.gz',\n",
       " '/mnt/nfs/dados_nas/raw/hc-3/data/g01_maze04_MS.006.tar.gz',\n",
       " '/mnt/nfs/dados_nas/raw/hc-3/data/g01_maze05_MS.001.tar.gz',\n",
       " '/mnt/nfs/dados_nas/raw/hc-3/data/g01_maze11_MS.001.tar.gz',\n",
       " '/mnt/nfs/dados_nas/raw/hc-3/data/g01_maze11_MS.002.tar.gz',\n",
       " '/mnt/nfs/dados_nas/raw/hc-3/data/g01_maze11_MS.004.tar.gz',\n",
       " '/mnt/nfs/dados_nas/raw/hc-3/data/2006-6-12_15-55-31.tar.gz',\n",
       " '/mnt/nfs/dados_nas/raw/hc-3/data/2006-6-12_16-53-46.tar.gz',\n",
       " '/mnt/nfs/dados_nas/raw/hc-3/data/2006-6-12_19-26-43.tar.gz',\n",
       " '/mnt/nfs/dados_nas/raw/hc-3/data/2006-6-13_14-42-6.tar.gz',\n",
       " '/mnt/nfs/dados_nas/raw/hc-3/data/2006-6-13_15-22-3.tar.gz',\n",
       " '/mnt/nfs/dados_nas/raw/hc-3/data/2006-6-13_15-44-7.tar.gz',\n",
       " '/mnt/nfs/dados_nas/raw/hc-3/data/11-04_22-31-40.tar.gz',\n",
       " '/mnt/nfs/dados_nas/raw/hc-3/data/2006-6-13_19-11-30.tar.gz',\n",
       " '/mnt/nfs/dados_nas/raw/hc-3/data/2006-6-7_11-26-53.tar.gz',\n",
       " '/mnt/nfs/dados_nas/raw/hc-3/data/2006-6-7_16-40-19.tar.gz',\n",
       " '/mnt/nfs/dados_nas/raw/hc-3/data/i01_maze01_MS.002.tar.gz',\n",
       " '/mnt/nfs/dados_nas/raw/hc-3/data/i01_maze02_MS.001.tar.gz',\n",
       " '/mnt/nfs/dados_nas/raw/hc-3/data/i01_maze02_MS.003.tar.gz',\n",
       " '/mnt/nfs/dados_nas/raw/hc-3/data/i01_maze04_MS.001.tar.gz',\n",
       " '/mnt/nfs/dados_nas/raw/hc-3/data/i01_maze04_MS.003.tar.gz',\n",
       " '/mnt/nfs/dados_nas/raw/hc-3/data/i01_maze05_MS.001.tar.gz',\n",
       " '/mnt/nfs/dados_nas/raw/hc-3/data/i01_maze05_MS.003.tar.gz',\n",
       " '/mnt/nfs/dados_nas/raw/hc-3/data/i01_maze15_MS.001.tar.gz',\n",
       " '/mnt/nfs/dados_nas/raw/hc-3/data/i01_maze15_MS.002.tar.gz',\n",
       " '/mnt/nfs/dados_nas/raw/hc-3/data/j01_maze04_M.001.tar.gz',\n",
       " '/mnt/nfs/dados_nas/raw/hc-3/data/j01_maze04_M.003.tar.gz',\n",
       " '/mnt/nfs/dados_nas/raw/hc-3/data/j01_maze04_M.004.tar.gz',\n",
       " '/mnt/nfs/dados_nas/raw/hc-3/data/j01_maze05_M.001.tar.gz',\n",
       " '/mnt/nfs/dados_nas/raw/hc-3/data/11-05_0-06-51.tar.gz',\n",
       " '/mnt/nfs/dados_nas/raw/hc-3/data/11-05_0-24-7.tar.gz',\n",
       " '/mnt/nfs/dados_nas/raw/hc-3/data/2006-4-10_12-25-50.tar.gz',\n",
       " '/mnt/nfs/dados_nas/raw/hc-3/data/2006-4-10_12-58-3.tar.gz',\n",
       " '/mnt/nfs/dados_nas/raw/hc-3/data/2006-4-10_14-22-10.tar.gz',\n",
       " '/mnt/nfs/dados_nas/raw/hc-3/data/2006-4-10_19-11-57.tar.gz',\n",
       " '/mnt/nfs/dados_nas/raw/hc-3/data/2006-4-10_21-2-40.tar.gz',\n",
       " '/mnt/nfs/dados_nas/raw/hc-3/data/2006-4-10_21-32-13.tar.gz',\n",
       " '/mnt/nfs/dados_nas/raw/hc-3/data/2006-4-18_13-06-01.tar.gz',\n",
       " '/mnt/nfs/dados_nas/raw/hc-3/data/2006-4-18_13-28-57.tar.gz',\n",
       " '/mnt/nfs/dados_nas/raw/hc-3/data/2006-4-18_15-23-32.tar.gz',\n",
       " '/mnt/nfs/dados_nas/raw/hc-3/data/2006-4-18_15-38-02.tar.gz',\n",
       " '/mnt/nfs/dados_nas/raw/hc-3/data/2006-4-18_18-26-36.tar.gz',\n",
       " '/mnt/nfs/dados_nas/raw/hc-3/data/2006-4-18_21-22-11.tar.gz',\n",
       " '/mnt/nfs/dados_nas/raw/hc-3/data/2006-4-9_17-29-30.tar.gz',\n",
       " '/mnt/nfs/dados_nas/raw/hc-3/data/2006-4-9_18-43-47.tar.gz']"
      ]
     },
     "execution_count": 11,
     "metadata": {},
     "output_type": "execute_result"
    }
   ],
   "source": []
  },
  {
   "cell_type": "code",
   "execution_count": 6,
   "metadata": {
    "ExecuteTime": {
     "end_time": "2017-12-11T19:34:48.747726Z",
     "start_time": "2017-12-11T19:34:48.713444Z"
    }
   },
   "outputs": [
    {
     "data": {
      "text/plain": [
       "'b'"
      ]
     },
     "execution_count": 6,
     "metadata": {},
     "output_type": "execute_result"
    }
   ],
   "source": []
  },
  {
   "cell_type": "code",
   "execution_count": null,
   "metadata": {
    "collapsed": true
   },
   "outputs": [],
   "source": []
  },
  {
   "cell_type": "code",
   "execution_count": null,
   "metadata": {
    "ExecuteTime": {
     "end_time": "2017-12-11T18:54:08.650846Z",
     "start_time": "2017-12-11T18:54:08.615320Z"
    },
    "collapsed": true
   },
   "outputs": [],
   "source": []
  },
  {
   "cell_type": "code",
   "execution_count": null,
   "metadata": {
    "ExecuteTime": {
     "end_time": "2017-12-08T18:02:42.828973Z",
     "start_time": "2017-12-08T18:02:42.603021Z"
    },
    "collapsed": true
   },
   "outputs": [],
   "source": [
    "import tarfile\n",
    "from subprocess import call\n",
    "raw_files = os.listdir(database_raw_data)\n",
    "raw_path  = [os.path.join(database_raw_data,file) for file in raw_files if os.path.isdir(os.path.join(database_raw_data,file))]\n",
    "\n",
    "untar_list = list()\n",
    "ul         = 0;\n",
    "for p,path in enumerate(raw_path):\n",
    "    print(p,path)\n",
    "    #call(['rm','-rf',path])\n"
   ]
  },
  {
   "cell_type": "code",
   "execution_count": null,
   "metadata": {
    "ExecuteTime": {
     "end_time": "2017-12-09T17:42:16.763671Z",
     "start_time": "2017-12-09T17:42:16.534835Z"
    },
    "collapsed": true
   },
   "outputs": [],
   "source": []
  },
  {
   "cell_type": "code",
   "execution_count": null,
   "metadata": {
    "ExecuteTime": {
     "end_time": "2017-12-09T17:42:18.336799Z",
     "start_time": "2017-12-09T17:42:18.303186Z"
    },
    "collapsed": true
   },
   "outputs": [],
   "source": [
    "aux_folder"
   ]
  },
  {
   "cell_type": "code",
   "execution_count": null,
   "metadata": {
    "ExecuteTime": {
     "start_time": "2017-12-09T19:19:06.639Z"
    },
    "collapsed": true
   },
   "outputs": [],
   "source": [
    "raw_path"
   ]
  },
  {
   "cell_type": "code",
   "execution_count": null,
   "metadata": {
    "ExecuteTime": {
     "start_time": "2017-12-11T19:39:57.821Z"
    }
   },
   "outputs": [
    {
     "name": "stdout",
     "output_type": "stream",
     "text": [
      "tar xvzf /mnt/nfs/dados_nas/raw/hc-3/data/ec014.468.tar.gz -C /mnt/nfs/dados_nas/raw/hc-3/data && rm -rf /mnt/nfs/dados_nas/raw/hc-3/data/ec014.468.tar.gz\n",
      " --- \n",
      "extracting...\n"
     ]
    }
   ],
   "source": [
    "import tarfile\n",
    "import queue \n",
    "import threading\n",
    "import subprocess\n",
    "import os\n",
    "\n",
    "data_folder          = \"/mnt/nfs/dados_nas\"\n",
    "\n",
    "database_raw_folder  = os.path.join(data_folder,\"raw\")\n",
    "database_raw_doc     = os.path.join(database_raw_folder,'hc-3/docs')\n",
    "database_raw_data    = os.path.join(database_raw_folder,'hc-3/data')\n",
    "\n",
    "database_proc_folder = os.path.join(data_folder,\"proc/hc-3\")\n",
    "database_proc_data   = os.path.join(database_proc_folder,\"data\")\n",
    "\n",
    "\n",
    "aux_folder = database_raw_data\n",
    "raw_files = os.listdir(aux_folder)\n",
    "#raw_path  = [os.path.join(aux_folder,file) for file in raw_files]\n",
    "raw_path  = [os.path.join(aux_folder,file) for file in raw_files if not(os.path.isdir(os.path.join(aux_folder,file)))]\n",
    "\n",
    "# input queue to be processed by many threads\n",
    "tar_queue = queue.Queue(maxsize=0) \n",
    "\n",
    "# number of worker threads to complete the processing\n",
    "num_worker_threads = 1\n",
    "\n",
    "# process that each worker thread will execute until the Queue is empty\n",
    "def worker():\n",
    "    #while True:\n",
    "    # get item from queue, do work on it, let queue know processing is done for one item\n",
    "    tar_file    = tar_queue.get()\n",
    "    str_cmd     = 'tar xvzf ' + tar_file + ' -C ' + aux_folder + ' && rm -rf ' + tar_file\n",
    "    print(str_cmd)\n",
    "    print(' --- ')\n",
    "    process     = subprocess.Popen(str_cmd,stdout=subprocess.PIPE, shell=True)\n",
    "    proc_stdout = process.communicate()[0].strip()\n",
    "    print('extracting...')\n",
    "    tar_queue.task_done()\n",
    "\n",
    "def main():\n",
    "    for i in range(num_worker_threads):\n",
    "         t = threading.Thread(target=worker)\n",
    "         t.daemon = True\n",
    "         t.start()\n",
    "\n",
    "    for tar_filename in raw_path:\n",
    "        tar_queue.put(tar_filename)\n",
    " \n",
    "    tar_queue.join()\n",
    "\n",
    "    print( \"Processing Complete\" )\n",
    "\n",
    "main()"
   ]
  },
  {
   "cell_type": "code",
   "execution_count": null,
   "metadata": {
    "ExecuteTime": {
     "end_time": "2017-12-08T18:51:41.481025Z",
     "start_time": "2017-12-08T18:51:41.443972Z"
    },
    "collapsed": true
   },
   "outputs": [],
   "source": [
    "aux_folder\n",
    "raw_path"
   ]
  },
  {
   "cell_type": "code",
   "execution_count": null,
   "metadata": {
    "ExecuteTime": {
     "end_time": "2017-12-08T18:52:04.902248Z",
     "start_time": "2017-12-08T18:51:47.817546Z"
    },
    "collapsed": true
   },
   "outputs": [],
   "source": [
    "import subprocess\n",
    "\n",
    "\n",
    "def subprocess_cmd(command):\n",
    "    str_cmd = 'tar xvzf ' + filepath + ' -C ' + aux_folder + ' && rm -rf '+filepath\n",
    "\n",
    "    process = subprocess.Popen(command,stdout=subprocess.PIPE, shell=True)\n",
    "    proc_stdout = process.communicate()[0].strip()\n",
    "    print(proc_stdout)\n",
    "\n",
    "for filepath in raw_path:\n",
    "    str_cmd = 'tar xvzf ' + filepath + ' -C ' + aux_folder + ' && rm -rf '+filepath\n",
    "\n",
    "    print(str_cmd)\n",
    "    subprocess_cmd(str_cmd)\n",
    "    \n",
    "    #subprocess_cmd('tar xvzf '+aux_folder+'/1.tar.gz -C '+aux_folder)\n",
    "\n",
    "\n"
   ]
  },
  {
   "cell_type": "code",
   "execution_count": null,
   "metadata": {
    "ExecuteTime": {
     "end_time": "2017-12-08T23:26:03.660254Z",
     "start_time": "2017-12-08T23:26:03.388671Z"
    },
    "collapsed": true
   },
   "outputs": [],
   "source": [
    "import queue \n",
    "import threading\n",
    "\n",
    "# input queue to be processed by many threads\n",
    "q_in = queue.Queue(maxsize=0) \n",
    "\n",
    "# output queue to be processed by one thread\n",
    "q_out = queue.Queue(maxsize=0) \n",
    "\n",
    "# number of worker threads to complete the processing\n",
    "num_worker_threads = 5\n",
    "\n",
    "# process that each worker thread will execute until the Queue is empty\n",
    "def worker():\n",
    "    while True:\n",
    "        # get item from queue, do work on it, let queue know processing is done for one item\n",
    "        item = q_in.get()\n",
    "        q_out.put(do_work(item))\n",
    "        q_in.task_done()\n",
    "\n",
    "# squares a number and returns the number and its square\n",
    "def do_work(item):\n",
    "    return (item,item*item)\n",
    "\n",
    "# another queued thread we will use to print output\n",
    "def printer():\n",
    "    while True:\n",
    "        # get an item processed by worker threads and print the result. Let queue know item has been processed\n",
    "        item = q_out.get()\n",
    "        print(\"{0[0]} squared is : {0[1]}\".format(item) )\n",
    "        q_out.task_done()\n",
    "\n",
    "# launch all of our queued processes\n",
    "def main():\n",
    "    # Launches a number of worker threads to perform operations using the queue of inputs\n",
    "    for i in range(num_worker_threads):\n",
    "         t = threading.Thread(target=worker)\n",
    "         t.daemon = True\n",
    "         t.start()\n",
    "\n",
    "    # launches a single \"printer\" thread to output the result (makes things neater)\n",
    "    t = threading.Thread(target=printer)\n",
    "    t.daemon = True\n",
    "    t.start()\n",
    "\n",
    "    # put items on the input queue (numbers to be squared)\n",
    "    for item in range(10):\n",
    "        q_in.put(item)\n",
    "\n",
    "    # wait for two queues to be emptied (and workers to close)   \n",
    "    q_in.join()       # block until all tasks are done\n",
    "    q_out.join()\n",
    "\n",
    "    print( \"Processing Complete\" )\n",
    "\n",
    "main()"
   ]
  },
  {
   "cell_type": "code",
   "execution_count": null,
   "metadata": {
    "ExecuteTime": {
     "end_time": "2017-12-08T18:50:43.770456Z",
     "start_time": "2017-12-08T18:50:43.760122Z"
    },
    "collapsed": true
   },
   "outputs": [],
   "source": []
  },
  {
   "cell_type": "code",
   "execution_count": null,
   "metadata": {
    "ExecuteTime": {
     "end_time": "2017-12-08T17:17:55.155663Z",
     "start_time": "2017-12-08T17:17:34.921689Z"
    },
    "collapsed": true
   },
   "outputs": [],
   "source": [
    "\n",
    "import time\n",
    "\n",
    "def mksleep(filename):\n",
    "    call(['mkdir',aux_folder+'/'+filename])\n",
    "    time.sleep(2)\n",
    "\n",
    "for i in range(10):\n",
    "    mksleep('/folder'+str(i))\n"
   ]
  },
  {
   "cell_type": "code",
   "execution_count": null,
   "metadata": {
    "ExecuteTime": {
     "end_time": "2017-12-08T16:44:08.818717Z",
     "start_time": "2017-12-08T16:44:08.793504Z"
    },
    "collapsed": true
   },
   "outputs": [],
   "source": [
    "\n",
    "from subprocess import call,Popen\n",
    "\n",
    "filename = aux_folder+'/'+'oi'\n",
    "\n",
    "p=Popen(['touch',filename,'&&','touch',filename+'12a'])\n"
   ]
  },
  {
   "cell_type": "code",
   "execution_count": null,
   "metadata": {
    "ExecuteTime": {
     "end_time": "2017-12-08T16:22:04.642336Z",
     "start_time": "2017-12-08T16:22:04.598004Z"
    },
    "collapsed": true
   },
   "outputs": [],
   "source": [
    "import tarfile\n",
    "from subprocess import call\n",
    "raw_files = os.listdir(database_raw_data)\n",
    "raw_path  = [os.path.join(database_raw_data,file) for file in raw_files if os.path.isdir(os.path.join(database_raw_data,file))]\n",
    "\n",
    "untar_list = list()\n",
    "ul         = 0;\n",
    "for p,path in enumerate(raw_path):\n",
    "    print(p,path)\n",
    "    files = os.listdir(path)\n"
   ]
  },
  {
   "cell_type": "code",
   "execution_count": null,
   "metadata": {
    "collapsed": true
   },
   "outputs": [],
   "source": [
    "\n",
    "for p,path in enumerate(download_path):\n",
    "    \n",
    "    if p > 0:\n",
    "        \n",
    "        file_list = os.listdir(path)\n",
    "        \n",
    "        for file in file_list:\n",
    "            \n",
    "            file_path = os.path.join(path,file)\n",
    "            filename  = file.split('.')\n",
    "            \n",
    "            if (\"mpg\"==filename[-3]):\n",
    "                filename  = '.'.join(filename[0:-3])\n",
    "            else:\n",
    "                filename  = '.'.join(filename[0:-2])\n",
    "            \n",
    "            extract_path = os.path.join(database_raw_data,filename)\n",
    "            \n",
    "            file_source  = file_path\n",
    "            file_destiny = os.path.join(extract_path,file)\n",
    "            \n",
    "            if not(os.path.isdir(extract_path)):\n",
    "                mkdir_cmd = 'mkdir '+ extract_path\n",
    "                print(mkdir_cmd)\n",
    "                call(['mkdir',extract_path])\n",
    "\n",
    "            call(['mv',file_source,file_destiny])\n"
   ]
  },
  {
   "cell_type": "code",
   "execution_count": null,
   "metadata": {
    "ExecuteTime": {
     "end_time": "2017-12-08T15:25:44.799002Z",
     "start_time": "2017-12-08T15:25:44.768243Z"
    },
    "collapsed": true
   },
   "outputs": [],
   "source": [
    "\n",
    "os.listdir(database_raw_data)\n"
   ]
  },
  {
   "cell_type": "code",
   "execution_count": null,
   "metadata": {
    "collapsed": true
   },
   "outputs": [],
   "source": [
    "\n",
    "break\n",
    "\n",
    "print(extract_path)\n",
    "if ~os.path.isdir(extract_path):\n",
    "    os.mkdir(extract_path)\n",
    "\n",
    "print(extract_path)\n",
    "print(\"Opening file...\")\n",
    "file_obj = tarfile.open(name=file_path)\n",
    "print(\"extracting...\")\n",
    "file_obj.extractall(path=extract_path)\n",
    "print(\"closing...\")\n",
    "file_obj.close()\n",
    "print(\"done.\")"
   ]
  },
  {
   "cell_type": "code",
   "execution_count": null,
   "metadata": {
    "ExecuteTime": {
     "end_time": "2017-12-07T23:06:28.419391Z",
     "start_time": "2017-12-07T23:06:28.391814Z"
    },
    "collapsed": true
   },
   "outputs": [],
   "source": [
    "os.system('ls ' +extract_path)\n",
    "'ls ' +extract_path"
   ]
  },
  {
   "cell_type": "code",
   "execution_count": 5,
   "metadata": {
    "ExecuteTime": {
     "end_time": "2017-12-07T11:26:38.038077Z",
     "start_time": "2017-12-07T11:26:38.025086Z"
    }
   },
   "outputs": [],
   "source": [
    "import pymysql\n",
    "\n",
    "import pymysql.cursors\n",
    "\n",
    "# Connect to the database\n",
    "devasql = pymysql.connect(host='localhost',\n",
    "                             user='root',\n",
    "                             password='senha',\n",
    "                             db='devadata',\n",
    "                             charset='utf8mb4',\n",
    "                             cursorclass=pymysql.cursors.DictCursor)"
   ]
  },
  {
   "cell_type": "code",
   "execution_count": 8,
   "metadata": {
    "ExecuteTime": {
     "end_time": "2017-12-07T11:37:31.464891Z",
     "start_time": "2017-12-07T11:37:31.433664Z"
    },
    "collapsed": true
   },
   "outputs": [],
   "source": []
  },
  {
   "cell_type": "code",
   "execution_count": 10,
   "metadata": {
    "ExecuteTime": {
     "end_time": "2017-12-07T11:37:39.230315Z",
     "start_time": "2017-12-07T11:37:39.213448Z"
    }
   },
   "outputs": [
    {
     "data": {
      "text/plain": [
       "[]"
      ]
     },
     "execution_count": 10,
     "metadata": {},
     "output_type": "execute_result"
    }
   ],
   "source": []
  },
  {
   "cell_type": "code",
   "execution_count": null,
   "metadata": {
    "collapsed": true
   },
   "outputs": [],
   "source": []
  },
  {
   "cell_type": "code",
   "execution_count": null,
   "metadata": {
    "ExecuteTime": {
     "end_time": "2017-12-07T11:38:21.507611Z",
     "start_time": "2017-12-07T11:38:21.423762Z"
    },
    "collapsed": true
   },
   "outputs": [],
   "source": [
    "for folder in os.listdir(database_raw_doc):\n",
    "    print(folder)\n",
    "    files = os.path.join(database_raw_doc,folder)\n",
    "    [print('\\t',file) for file in os.listdir(files)]"
   ]
  },
  {
   "cell_type": "code",
   "execution_count": null,
   "metadata": {
    "ExecuteTime": {
     "end_time": "2017-12-10T00:35:03.726291Z",
     "start_time": "2017-12-10T00:35:00.459211Z"
    },
    "collapsed": true
   },
   "outputs": [],
   "source": [
    "import numpy as np\n",
    "import pandas\n",
    "from scipy.io import loadmat\n",
    "\n",
    "kenji_filename = os.path.join(database_raw_doc,'hc3-original-docs','KenjiData.mat')\n",
    "print(kenji_filename)\n",
    "kenji_data = loadmat(kenji_filename)\n",
    "\n"
   ]
  },
  {
   "cell_type": "code",
   "execution_count": null,
   "metadata": {
    "ExecuteTime": {
     "end_time": "2017-12-10T00:34:57.536418Z",
     "start_time": "2017-12-10T00:34:57.517751Z"
    },
    "collapsed": true
   },
   "outputs": [],
   "source": [
    "kenji_data"
   ]
  },
  {
   "cell_type": "code",
   "execution_count": null,
   "metadata": {
    "ExecuteTime": {
     "end_time": "2017-12-07T11:18:50.319447Z",
     "start_time": "2017-12-07T11:18:49.910052Z"
    },
    "collapsed": true
   },
   "outputs": [],
   "source": [
    "def session_info(xml_filename):\n",
    "    import xml.etree.ElementTree as ET\n",
    "\n",
    "    session_xml = ET.parse(xml_filename)\n",
    "    root = session_xml.getroot()\n",
    "\n",
    "    xml_info = dict()\n",
    "\n",
    "    xml_info[\"exp\"]                 = dict()\n",
    "    \n",
    "    xml_info[\"exp\"][\"date\"]         = root[0][0].text\n",
    "    xml_info[\"exp\"][\"experimenter\"] = root[0][1].text\n",
    "    xml_info[\"exp\"][\"nshank\"]       = 0\n",
    "    xml_info[\"exp\"][\"nchannel\"]     = root[1][1].text\n",
    "    \n",
    "    \n",
    "    xml_info[\"channel\"] = dict();\n",
    "    \n",
    "    for (sno,info) in enumerate(root[3][0]):\n",
    "        print(sno)\n",
    "        channel_info                  = dict()\n",
    "    \n",
    "        channel_info[\"nbit\"]          = root[1][0].text\n",
    "        channel_info[\"srate\"]         = root[2][0].text\n",
    "        channel_info[\"vrange\"]        = root[1][3].text\n",
    "        channel_info[\"amplification\"] = root[1][4].text\n",
    "        channel_info[\"offset\"]        = root[1][5].text\n",
    "    \n",
    "        \n",
    "        \n",
    "        for info2 in info:\n",
    "            ch        = int(info2.text);   \n",
    "            a         = info2\n",
    "            skip_info = [int(aa[1]) for (aaa,aa) in enumerate(info2.items()) if aaa<1]\n",
    "            \n",
    "            channel_info[\"skip\"]    = skip_info[0]\n",
    "            channel_info[\"shank\"]   = sno\n",
    "            channel_info[\"channel\"] = ch\n",
    "            xml_info[\"channel\"][ch] = channel_info.copy()\n",
    "    \n",
    "        channel_info\n",
    "        \n",
    "    xml_info[\"exp\"][\"nshank\"]               = sno\n",
    "\n",
    "    \n",
    "    xml_info[\"neuron\"]                      = dict()\n",
    "    \n",
    "    xml_info[\"neuron\"][\"nbit\"]              = root[1][0].text\n",
    "    xml_info[\"neuron\"][\"nchannel\"]          = root[1][1].text\n",
    "    xml_info[\"neuron\"][\"srate\"]             = root[2][0].text\n",
    "    xml_info[\"neuron\"][\"vrange\"]            = root[1][3].text\n",
    "    xml_info[\"neuron\"][\"amplification\"]     = root[1][4].text\n",
    "    xml_info[\"neuron\"][\"offset\"]            = root[1][5].text\n",
    "\n",
    "    return xml_info"
   ]
  },
  {
   "cell_type": "code",
   "execution_count": null,
   "metadata": {
    "ExecuteTime": {
     "end_time": "2017-12-07T11:19:28.473299Z",
     "start_time": "2017-12-07T11:19:28.438685Z"
    },
    "collapsed": true
   },
   "outputs": [],
   "source": [
    "def xml_print(xml_info):\n",
    "    for i,info in enumerate(xml_info):\n",
    "        print(info)\n",
    "        for info2 in xml_info[info]:\n",
    "            if (i!=1):\n",
    "                print('\\t',info2,':',xml_info[info][info2])\n",
    "            elif (i==1):\n",
    "                print('\\t',info2)\n",
    "                for info3 in xml_info[info][info2]:\n",
    "                    print('\\t\\t',info3,':',xml_info[info][info2][info3])\n",
    "        "
   ]
  },
  {
   "cell_type": "code",
   "execution_count": null,
   "metadata": {
    "ExecuteTime": {
     "end_time": "2017-12-07T11:19:42.418763Z",
     "start_time": "2017-12-07T11:19:32.662326Z"
    },
    "collapsed": true
   },
   "outputs": [],
   "source": [
    "group_folders = os.listdir(database_raw_data)\n",
    "\n",
    "for group_folder in group_folders:\n",
    "    \n",
    "    print(group_folder)\n",
    "    day_folders = os.listdir(os.path.join(database_raw_data,group_folder))\n",
    "    \n",
    "    for day_folder in day_folders:\n",
    "        \n",
    "        print('\\t',day_folder)\n",
    "        files = os.listdir(os.path.join(database_raw_data,group_folder,day_folder))\n",
    "        \n",
    "        for file in files:\n",
    "            \n",
    "            print('\\t','\\t',file)\n",
    "            \n",
    "            xml_info = session_info(xml_filename)\n",
    "            xml_print(xml_info)\n",
    "\n"
   ]
  },
  {
   "cell_type": "code",
   "execution_count": null,
   "metadata": {
    "ExecuteTime": {
     "end_time": "2017-12-07T04:58:05.273352Z",
     "start_time": "2017-12-07T04:58:05.263101Z"
    },
    "collapsed": true
   },
   "outputs": [],
   "source": [
    "xml_filename = os.path.join(database_raw_data,group_folder,day_folder,files[-1])\n",
    "print(xml_filename)"
   ]
  },
  {
   "cell_type": "code",
   "execution_count": null,
   "metadata": {
    "ExecuteTime": {
     "end_time": "2017-12-07T11:17:11.837607Z",
     "start_time": "2017-12-07T11:17:11.167847Z"
    },
    "collapsed": true
   },
   "outputs": [],
   "source": [
    "\n",
    "\n",
    "\n",
    "\n",
    "\n",
    "        "
   ]
  },
  {
   "cell_type": "code",
   "execution_count": null,
   "metadata": {
    "ExecuteTime": {
     "end_time": "2017-12-07T10:56:50.600304Z",
     "start_time": "2017-12-07T10:56:50.593448Z"
    },
    "collapsed": true
   },
   "outputs": [],
   "source": []
  },
  {
   "cell_type": "code",
   "execution_count": null,
   "metadata": {
    "collapsed": true
   },
   "outputs": [],
   "source": []
  },
  {
   "cell_type": "code",
   "execution_count": null,
   "metadata": {
    "ExecuteTime": {
     "end_time": "2017-12-07T04:23:00.164556Z",
     "start_time": "2017-12-07T04:23:00.154259Z"
    },
    "collapsed": true
   },
   "outputs": [],
   "source": [
    "\n",
    "\n",
    "import xml.etree.cElementTree as et\n",
    " \n",
    "parsedXML = et.parse(xml_filename)"
   ]
  },
  {
   "cell_type": "code",
   "execution_count": null,
   "metadata": {
    "ExecuteTime": {
     "end_time": "2017-12-07T04:24:11.488408Z",
     "start_time": "2017-12-07T04:24:11.479862Z"
    },
    "collapsed": true
   },
   "outputs": [],
   "source": []
  },
  {
   "cell_type": "code",
   "execution_count": null,
   "metadata": {
    "ExecuteTime": {
     "end_time": "2017-12-07T04:23:37.154141Z",
     "start_time": "2017-12-07T04:23:37.094403Z"
    },
    "collapsed": true
   },
   "outputs": [],
   "source": [
    "for child in root:\n",
    "    print(child.tag, ' -1 ',child.attrib)\n",
    "    for ele in child:\n",
    "        print('\\t',ele.tag, ' +2 ',ele.attrib)\n",
    "        for eles in ele:\n",
    "            print('\\t\\t',eles.tag, ' -3 ',eles.attrib)\n",
    "            for eless in eles:\n",
    "                print('\\t\\t\\t',eless.tag, ' +4 ',eless.attrib)\n",
    "                for elesss in eless:\n",
    "                    print('\\t\\t\\t\\t',elesss.tag, ' -5 ',elesss.attrib)\n",
    "                    for elessss in elesss:\n",
    "                        print('\\t\\t\\t\\t\\t',elessss.tag, ' +6 ',elessss.attrib)"
   ]
  },
  {
   "cell_type": "code",
   "execution_count": null,
   "metadata": {
    "collapsed": true
   },
   "outputs": [],
   "source": [
    "xml_file"
   ]
  }
 ],
 "metadata": {
  "kernelspec": {
   "display_name": "Python 3",
   "language": "python",
   "name": "python3"
  },
  "language_info": {
   "codemirror_mode": {
    "name": "ipython",
    "version": 3
   },
   "file_extension": ".py",
   "mimetype": "text/x-python",
   "name": "python",
   "nbconvert_exporter": "python",
   "pygments_lexer": "ipython3",
   "version": "3.6.3"
  },
  "toc": {
   "nav_menu": {},
   "number_sections": true,
   "sideBar": true,
   "skip_h1_title": false,
   "toc_cell": false,
   "toc_position": {},
   "toc_section_display": "block",
   "toc_window_display": false
  },
  "varInspector": {
   "cols": {
    "lenName": 16,
    "lenType": 16,
    "lenVar": 40
   },
   "kernels_config": {
    "python": {
     "delete_cmd_postfix": "",
     "delete_cmd_prefix": "del ",
     "library": "var_list.py",
     "varRefreshCmd": "print(var_dic_list())"
    },
    "r": {
     "delete_cmd_postfix": ") ",
     "delete_cmd_prefix": "rm(",
     "library": "var_list.r",
     "varRefreshCmd": "cat(var_dic_list()) "
    }
   },
   "position": {
    "height": "551px",
    "left": "254.281px",
    "right": "20px",
    "top": "862.984px",
    "width": "524px"
   },
   "types_to_exclude": [
    "module",
    "function",
    "builtin_function_or_method",
    "instance",
    "_Feature"
   ],
   "window_display": false
  }
 },
 "nbformat": 4,
 "nbformat_minor": 2
}
